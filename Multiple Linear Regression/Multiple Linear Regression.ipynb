{
 "cells": [
  {
   "cell_type": "code",
   "execution_count": null,
   "id": "dd5b9149-d548-4b6f-b2a2-7083ea628d4d",
   "metadata": {},
   "outputs": [],
   "source": [
    "import numpy as np\n",
    "import pandas as pd\n",
    "import seaborn as sns\n",
    "import matplotlib.pyplot as plt\n",
    "from sklearn.preprocessing import LabelEncoder\n",
    "from sklearn.model_selection import train_test_split\n",
    "from sklearn.linear_model import LinearRegression\n",
    "from sklearn.metrics import mean_absolute_error,mean_squared_error"
   ]
  },
  {
   "cell_type": "code",
   "execution_count": null,
   "id": "8e885cfe-b8cd-4b8d-a73e-140a6a1cc152",
   "metadata": {},
   "outputs": [],
   "source": [
    "df = pd.read_csv(\"insurance.csv\")\n",
    "df.head()"
   ]
  },
  {
   "cell_type": "code",
   "execution_count": null,
   "id": "19069224-6d68-4641-aa6a-739454ef6d37",
   "metadata": {},
   "outputs": [],
   "source": [
    "df.describe()"
   ]
  },
  {
   "cell_type": "code",
   "execution_count": null,
   "id": "efdc0de3-8508-4236-b390-4d464489d433",
   "metadata": {},
   "outputs": [],
   "source": [
    "le = LabelEncoder()\n",
    "df[\"sex_idx\"] = le.fit_transform(df[\"sex\"])\n",
    "df[\"smoker_idx\"] = le.fit_transform(df[\"smoker\"])\n",
    "df[\"region_idx\"] = le.fit_transform(df[\"region\"])"
   ]
  },
  {
   "cell_type": "code",
   "execution_count": null,
   "id": "5342a2ac-cd4a-4508-a762-cfc4c87a275b",
   "metadata": {},
   "outputs": [],
   "source": [
    "X = df[[\"age\", \"sex_idx\", \"smoker_idx\", \"region_idx\", \"bmi\", \"children\"]]\n",
    "y = df['charges']"
   ]
  },
  {
   "cell_type": "code",
   "execution_count": null,
   "id": "84cf31e9-9b57-4472-84f1-7458adbecf5e",
   "metadata": {},
   "outputs": [],
   "source": [
    "X_train, X_test, y_train, y_test = train_test_split(X, y, test_size=0.20, random_state=42)"
   ]
  },
  {
   "cell_type": "code",
   "execution_count": null,
   "id": "86c0b4db-77ae-4520-9547-84d306f2568e",
   "metadata": {},
   "outputs": [],
   "source": [
    "model = LinearRegression()\n",
    "model.fit(X_train,y_train)"
   ]
  },
  {
   "cell_type": "code",
   "execution_count": null,
   "id": "01be8de1-10e5-409a-a8cc-13527af9b207",
   "metadata": {},
   "outputs": [],
   "source": [
    "predictions = model.predict(X_test)"
   ]
  },
  {
   "cell_type": "code",
   "execution_count": null,
   "id": "4e3a64e2-0018-4aa7-bfb5-3917803a75b4",
   "metadata": {},
   "outputs": [],
   "source": [
    "MAE = mean_absolute_error(y_test,predictions)\n",
    "MSE = mean_squared_error(y_test,predictions)\n",
    "RMSE = np.sqrt(MSE)\n",
    "\n",
    "print(\"MAE: %f\" % (MAE))\n",
    "print(\"RMSE: %f\" % (RMSE))"
   ]
  },
  {
   "cell_type": "code",
   "execution_count": null,
   "id": "b5a3a52f-4c90-4472-8987-ef6c1a22a24f",
   "metadata": {},
   "outputs": [],
   "source": [
    "residuals = y_test - predictions\n",
    "sns.scatterplot(x=y_test,y=residuals)\n",
    "plt.axhline(y=0, color='r', linestyle='--')\n",
    "plt.xlabel(\"Charges\")\n",
    "plt.ylabel(\"Residuals\")\n",
    "plt.title(\"Residual Plot\")\n",
    "plt.show()"
   ]
  },
  {
   "cell_type": "code",
   "execution_count": null,
   "id": "d4c9b2c3-a082-43bd-9b41-7222e2ad607d",
   "metadata": {},
   "outputs": [],
   "source": []
  }
 ],
 "metadata": {
  "kernelspec": {
   "display_name": "Python 3 (ipykernel)",
   "language": "python",
   "name": "python3"
  },
  "language_info": {
   "codemirror_mode": {
    "name": "ipython",
    "version": 3
   },
   "file_extension": ".py",
   "mimetype": "text/x-python",
   "name": "python",
   "nbconvert_exporter": "python",
   "pygments_lexer": "ipython3",
   "version": "3.10.2"
  }
 },
 "nbformat": 4,
 "nbformat_minor": 5
}
